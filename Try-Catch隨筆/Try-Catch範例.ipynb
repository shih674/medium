{
 "cells": [
  {
   "cell_type": "code",
   "execution_count": 10,
   "metadata": {},
   "outputs": [
    {
     "name": "stdout",
     "output_type": "stream",
     "text": [
      "::請輸入數字\n",
      "\t>>hello world\n"
     ]
    },
    {
     "ename": "ValueError",
     "evalue": "invalid literal for int() with base 10: 'hello world'",
     "output_type": "error",
     "traceback": [
      "\u001b[1;31m---------------------------------------------------------------------------\u001b[0m",
      "\u001b[1;31mValueError\u001b[0m                                Traceback (most recent call last)",
      "\u001b[1;32m<ipython-input-10-6c6b001bdc5d>\u001b[0m in \u001b[0;36m<module>\u001b[1;34m\u001b[0m\n\u001b[1;32m----> 1\u001b[1;33m \u001b[0mx\u001b[0m \u001b[1;33m=\u001b[0m \u001b[0mint\u001b[0m\u001b[1;33m(\u001b[0m\u001b[0minput\u001b[0m\u001b[1;33m(\u001b[0m\u001b[1;34m\"::請輸入數字\\n\\t>>\"\u001b[0m\u001b[1;33m)\u001b[0m\u001b[1;33m)\u001b[0m\u001b[1;33m\u001b[0m\u001b[1;33m\u001b[0m\u001b[0m\n\u001b[0m\u001b[0;32m      2\u001b[0m \u001b[0mprint\u001b[0m\u001b[1;33m(\u001b[0m\u001b[1;34mf\"::你輸入的是 {x}\"\u001b[0m\u001b[1;33m)\u001b[0m\u001b[1;33m\u001b[0m\u001b[1;33m\u001b[0m\u001b[0m\n",
      "\u001b[1;31mValueError\u001b[0m: invalid literal for int() with base 10: 'hello world'"
     ]
    }
   ],
   "source": [
    "# Example 1.1\n",
    "x = int(input(\"::請輸入數字\\n\\t>>\"))\n",
    "print(f\"::你輸入的是 {x}\")"
   ]
  },
  {
   "cell_type": "code",
   "execution_count": 11,
   "metadata": {
    "scrolled": true
   },
   "outputs": [
    {
     "name": "stdout",
     "output_type": "stream",
     "text": [
      "::請輸入數字\n",
      "\t>>hello world\n",
      "invalid literal for int() with base 10: 'hello world'\n"
     ]
    }
   ],
   "source": [
    "# Example 1.2\n",
    "# :try - except\n",
    "try :\n",
    "    x = int(input(\"::請輸入數字\\n\\t>>\"))\n",
    "    print(f\"::你輸入的是 {x}\")\n",
    "except Exception as e:\n",
    "    print(e)"
   ]
  },
  {
   "cell_type": "code",
   "execution_count": 15,
   "metadata": {},
   "outputs": [
    {
     "name": "stdout",
     "output_type": "stream",
     "text": [
      "::請輸入數字\n",
      "\t>>hello world\n",
      "invalid literal for int() with base 10: 'hello world' \n",
      "\n",
      "::請輸入數字\n",
      "\t>>20200209\n",
      "::你輸入的是 20200209\n",
      "\n",
      "執行完成\n"
     ]
    }
   ],
   "source": [
    "# Example 1.3\n",
    "# :try - except with While\n",
    "while True:\n",
    "    try :\n",
    "        x = int(input(\":: 請輸入數字\\n\\t>>\"))\n",
    "        print(f\":: 你輸入的是 {x}\\n\")\n",
    "        break\n",
    "    except Exception as e:\n",
    "        print(e,\"\\n\")\n",
    "print(\"執行完成\")"
   ]
  },
  {
   "cell_type": "code",
   "execution_count": 17,
   "metadata": {},
   "outputs": [
    {
     "name": "stdout",
     "output_type": "stream",
     "text": [
      ":: 請輸入出生月份(1~12)\n",
      "\t>>13\n",
      ":: 別以為我不知道一年只有12個月喔!\n",
      "\n",
      "執行完成\n"
     ]
    }
   ],
   "source": [
    "# Example 2.1\n",
    "# :try - raise - except\n",
    "try: \n",
    "    x = int(input(\":: 請輸入出生月份(1~12)\\n\\t>>\"))\n",
    "    if x >12 or x < 0:\n",
    "        raise ValueError\n",
    "    print(f\":: 原來你是{x}月出生的寶寶\\n\")\n",
    "except ValueError:\n",
    "    print(\":: 別以為我不知道一年只有12個月喔!\\n\")\n",
    "print(\"執行完成\")"
   ]
  },
  {
   "cell_type": "code",
   "execution_count": 19,
   "metadata": {},
   "outputs": [
    {
     "name": "stdout",
     "output_type": "stream",
     "text": [
      ":: 請輸入出生月份(1~12)\n",
      "\t>>13\n",
      ":: 別以為我不知道一年只有12個月喔!\n",
      "\n",
      "執行完成\n"
     ]
    }
   ],
   "source": [
    "# Example 2.2\n",
    "# :if \n",
    "x = int(input(\":: 請輸入出生月份(1~12)\\n\\t>>\"))\n",
    "if x >12 or x < 0:\n",
    "    print(\":: 別以為我不知道一年只有12個月喔!\\n\")\n",
    "else:\n",
    "    print(f\":: 原來你是{x}月出生的寶寶\\n\")\n",
    "    \n",
    "print(\"執行完成\") "
   ]
  },
  {
   "cell_type": "code",
   "execution_count": 26,
   "metadata": {},
   "outputs": [
    {
     "name": "stdout",
     "output_type": "stream",
     "text": [
      ":: 請輸入出生月份(1~12)\n",
      "\t>>33\n",
      ":: 別以為我不知道一年只有12個月喔!\n",
      "\n",
      ":: 執行完成\n"
     ]
    }
   ],
   "source": [
    "# Example 3\n",
    "# :try - except - else - finally\n",
    "try: \n",
    "    x = int(input(\":: 請輸入出生月份(1~12)\\n\\t>>\"))\n",
    "    if x >12 or x < 0:\n",
    "        raise ValueError\n",
    "except ValueError:\n",
    "    print(\":: 別以為我不知道一年只有12個月喔!\\n\")\n",
    "else:\n",
    "    print(f\":: 原來你是{x}月出生的寶寶\\n\")\n",
    "finally:\n",
    "    print(\":: 執行完成\")"
   ]
  }
 ],
 "metadata": {
  "kernelspec": {
   "display_name": "Python 3",
   "language": "python",
   "name": "python3"
  },
  "language_info": {
   "codemirror_mode": {
    "name": "ipython",
    "version": 3
   },
   "file_extension": ".py",
   "mimetype": "text/x-python",
   "name": "python",
   "nbconvert_exporter": "python",
   "pygments_lexer": "ipython3",
   "version": "3.7.3"
  }
 },
 "nbformat": 4,
 "nbformat_minor": 2
}
